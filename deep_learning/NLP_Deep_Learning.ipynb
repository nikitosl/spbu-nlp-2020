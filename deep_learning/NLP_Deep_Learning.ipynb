{
  "nbformat": 4,
  "nbformat_minor": 0,
  "metadata": {
    "colab": {
      "name": "NLP Deep Learning.ipynb",
      "provenance": [],
      "toc_visible": true
    },
    "kernelspec": {
      "display_name": "Python 3",
      "language": "python",
      "name": "python3"
    },
    "language_info": {
      "codemirror_mode": {
        "name": "ipython",
        "version": 3
      },
      "file_extension": ".py",
      "mimetype": "text/x-python",
      "name": "python",
      "nbconvert_exporter": "python",
      "pygments_lexer": "ipython3",
      "version": "3.7.9"
    },
    "accelerator": "GPU"
  },
  "cells": [
    {
      "cell_type": "code",
      "metadata": {
        "colab": {
          "base_uri": "https://localhost:8080/"
        },
        "id": "v6kyvTaJ-6GO",
        "outputId": "6f6745d1-e5dc-4960-a83c-bfd12ce9d0cd"
      },
      "source": [
        "# Загрузка датасета из репозитория гит\n",
        "!git clone https://github.com/nikitosl/spbu-nlp-2020.git\n",
        "import sys\n",
        "sys.path.append('./spbu-nlp-2020')"
      ],
      "execution_count": 26,
      "outputs": [
        {
          "output_type": "stream",
          "text": [
            "fatal: destination path 'spbu-nlp-2020' already exists and is not an empty directory.\n"
          ],
          "name": "stdout"
        }
      ]
    },
    {
      "cell_type": "code",
      "metadata": {
        "colab": {
          "base_uri": "https://localhost:8080/"
        },
        "id": "9IXq6D0kP6xT",
        "outputId": "4388b402-d496-4336-cb0a-5c1857bd95d1"
      },
      "source": [
        "%pip install youtokentome"
      ],
      "execution_count": 27,
      "outputs": [
        {
          "output_type": "stream",
          "text": [
            "Requirement already satisfied: youtokentome in /usr/local/lib/python3.6/dist-packages (1.0.6)\n",
            "Requirement already satisfied: Click>=7.0 in /usr/local/lib/python3.6/dist-packages (from youtokentome) (7.1.2)\n"
          ],
          "name": "stdout"
        }
      ]
    },
    {
      "cell_type": "code",
      "metadata": {
        "id": "WAw_7OtU2bxa"
      },
      "source": [
        "# Импорты\n",
        "import re\n",
        "\n",
        "import pandas as pd\n",
        "import numpy as np\n",
        "from collections import Counter"
      ],
      "execution_count": 28,
      "outputs": []
    },
    {
      "cell_type": "code",
      "metadata": {
        "id": "CVlCXW9L_7fx"
      },
      "source": [
        "import torch\n",
        "import torch.nn as nn\n",
        "import torch.optim as optim\n",
        "import torch.nn.functional as F\n",
        "\n",
        "from torchtext.datasets import TranslationDataset, Multi30k\n",
        "from torchtext.data import Field, BucketIterator\n",
        "\n",
        "import matplotlib.pyplot as plt\n",
        "import matplotlib.ticker as ticker\n",
        "\n",
        "import spacy\n",
        "\n",
        "import random\n",
        "import math\n",
        "import time\n",
        "import torch\n",
        "from torchtext import data, datasets\n",
        "import youtokentome as yttm\n",
        "from torch.nn import TransformerEncoder, TransformerEncoderLayer, \\\n",
        "                     TransformerDecoder, TransformerDecoderLayer\n",
        "from torch.utils.data.dataloader import DataLoader\n",
        "from torch.utils.data import random_split, Dataset\n",
        "from torch.optim.lr_scheduler import MultiplicativeLR"
      ],
      "execution_count": 112,
      "outputs": []
    },
    {
      "cell_type": "markdown",
      "metadata": {
        "id": "7BAqysUAewVa"
      },
      "source": [
        "### Параметры"
      ]
    },
    {
      "cell_type": "code",
      "metadata": {
        "id": "-JTTi7pmewVa"
      },
      "source": [
        "BATCH_SIZE = 128\n",
        "VOCAB_SIZE = 500\n",
        "PART_LEN = 300\n",
        "\n",
        "device = torch.device('cuda' if torch.cuda.is_available() else 'cpu')\n",
        "\n",
        "PAD_IDX = 0\n",
        "SOS_IDX = 2\n",
        "EOS_IDX = 3\n",
        "\n",
        "EMBEDDING_DIM = 128\n",
        "\n",
        "ENCODER_HEADS_NUMBER = 16\n",
        "INTERNAL_DIM = 128\n",
        "ENCODER_LAYERS_NUM = 2\n",
        "DROPOUT = 0.1"
      ],
      "execution_count": 93,
      "outputs": []
    },
    {
      "cell_type": "markdown",
      "metadata": {
        "heading_collapsed": true,
        "id": "lCFsHbQoewVb"
      },
      "source": [
        "### Функции"
      ]
    },
    {
      "cell_type": "code",
      "metadata": {
        "hidden": true,
        "id": "9AF5KKIKewVb"
      },
      "source": [
        "import matplotlib\n",
        "matplotlib.rcParams.update({'figure.figsize': (16, 12), 'font.size': 14})\n",
        "import matplotlib.pyplot as plt\n",
        "%matplotlib inline\n",
        "from IPython.display import clear_output\n",
        "\n",
        "\n",
        "def train(model, iterator, optimizer, criterion, clip, train_history=None, valid_history=None):\n",
        "    \n",
        "    model.train()\n",
        "    \n",
        "    epoch_loss = 0\n",
        "    history = []\n",
        "    for i, batch in enumerate(iterator):\n",
        "        \n",
        "        src = batch[0].T.to(device) # [InLen, BS]\n",
        "        tgt = batch[1].T.to(device) # [OutLen, BS]\n",
        "        \n",
        "        optimizer.zero_grad()\n",
        "        \n",
        "        output_tgt = model(src) # [OutLen, BS, VS]\n",
        "        output_tgt = output_tgt.reshape(-1, VOCAB_SIZE) # [OutLen * BS, VS]\n",
        "        \n",
        "        tgt = tgt.reshape(-1) # [OutLen * BS]\n",
        "        loss = criterion(output_tgt, tgt)\n",
        "        \n",
        "        loss.backward()\n",
        "        torch.nn.utils.clip_grad_norm_(model.parameters(), clip)\n",
        "        optimizer.step()\n",
        "        \n",
        "        epoch_loss += loss.item()\n",
        "        \n",
        "        history.append(loss.cpu().data.numpy())\n",
        "        if (i+1)%10==0:\n",
        "            fig, ax = plt.subplots(nrows=1, ncols=2, figsize=(12, 8))\n",
        "\n",
        "            clear_output(True)\n",
        "            ax[0].plot(history, label='train loss')\n",
        "            ax[0].set_xlabel('Batch')\n",
        "            ax[0].set_title('Train loss')\n",
        "            if train_history is not None:\n",
        "                ax[1].plot(train_history, label='general train history')\n",
        "                ax[1].set_xlabel('Epoch')\n",
        "            if valid_history is not None:\n",
        "                ax[1].plot(valid_history, label='general valid history')\n",
        "            plt.legend()\n",
        "            \n",
        "            plt.show()\n",
        "        \n",
        "    return epoch_loss / len(iterator)\n",
        "\n",
        "def evaluate(model, iterator, criterion):\n",
        "    \n",
        "    model.eval()\n",
        "    \n",
        "    epoch_loss = 0\n",
        "    \n",
        "    with torch.no_grad():\n",
        "    \n",
        "        for i, batch in enumerate(iterator):\n",
        "\n",
        "            src = batch[0].T.to(device) # [InLen, BS]\n",
        "            tgt = batch[1].T.to(device) # [OutLen, BS]\n",
        "                        \n",
        "            output_tgt = model(src)\n",
        "            output_tgt = output_tgt.reshape(-1, output_tgt.shape[-1])\n",
        "            \n",
        "            tgt = tgt.reshape(-1)\n",
        "            loss = criterion(output_tgt, tgt)\n",
        "\n",
        "            epoch_loss += loss.item()\n",
        "        \n",
        "    return epoch_loss / len(iterator)\n",
        "\n",
        "def epoch_time(start_time, end_time):\n",
        "    elapsed_time = end_time - start_time\n",
        "    elapsed_mins = int(elapsed_time / 60)\n",
        "    elapsed_secs = int(elapsed_time - (elapsed_mins * 60))\n",
        "    return elapsed_mins, elapsed_secs\n",
        "\n",
        "def ensure_length(txt, out_len, pad_value):\n",
        "    if len(txt) < out_len:\n",
        "        txt = list(txt) + [pad_value] * (out_len - len(txt))\n",
        "    else:\n",
        "        txt = txt[:out_len]\n",
        "    return txt\n",
        "\n",
        "\n",
        "class PaddedSequenceDataset(Dataset):\n",
        "    def __init__(self, texts, out_len=100, pad_value=0):\n",
        "        self.texts = texts\n",
        "        self.out_len = out_len\n",
        "        self.pad_value = pad_value\n",
        "\n",
        "    def __len__(self):\n",
        "        return len(self.texts)\n",
        "\n",
        "    def __getitem__(self, item):\n",
        "        txt = self.texts[item][:-1]\n",
        "        target = self.texts[item][1:]\n",
        "        \n",
        "\n",
        "        txt = ensure_length(txt, self.out_len, self.pad_value)\n",
        "        txt = torch.tensor(txt, dtype=torch.long)\n",
        "        \n",
        "        target = ensure_length(target, self.out_len, self.pad_value)\n",
        "        target = torch.tensor(target, dtype=torch.long)\n",
        "\n",
        "        return txt, target"
      ],
      "execution_count": 94,
      "outputs": []
    },
    {
      "cell_type": "markdown",
      "metadata": {
        "heading_collapsed": true,
        "id": "0lsyk6mb0UDo"
      },
      "source": [
        "### Чтение файла Война и мир, BPE"
      ]
    },
    {
      "cell_type": "code",
      "metadata": {
        "hidden": true,
        "id": "bPgmGVkc0UDp"
      },
      "source": [
        "with open('./spbu-nlp-2020/deep_learning/war_and_peace.txt', 'r', encoding='utf-8') as f:\n",
        "    text = f.read()"
      ],
      "execution_count": 95,
      "outputs": []
    },
    {
      "cell_type": "code",
      "metadata": {
        "hidden": true,
        "id": "CLYIoqmQPj9x"
      },
      "source": [
        "model_path = './spbu-nlp-2020/deep_learning/models/bpe.model'\n",
        "train_data_path = \"./spbu-nlp-2020/deep_learning/war_and_peace.txt\"\n",
        "\n",
        "# Training model\n",
        "yttm.BPE.train(data=train_data_path, vocab_size=VOCAB_SIZE, model=model_path,\n",
        "               pad_id=0, unk_id=1, bos_id=2, eos_id=3)\n",
        "\n",
        "# Loading model\n",
        "bpe = yttm.BPE(model=model_path)"
      ],
      "execution_count": 96,
      "outputs": []
    },
    {
      "cell_type": "code",
      "metadata": {
        "colab": {
          "base_uri": "https://localhost:8080/"
        },
        "hidden": true,
        "id": "yQlnILj8Qn2X",
        "outputId": "e3a56469-e019-49cc-ac4b-44911bcd69a0"
      },
      "source": [
        "bpe.vocab()"
      ],
      "execution_count": 97,
      "outputs": [
        {
          "output_type": "execute_result",
          "data": {
            "text/plain": [
              "['<PAD>',\n",
              " '<UNK>',\n",
              " '<BOS>',\n",
              " '<EOS>',\n",
              " '▁',\n",
              " 'о',\n",
              " 'а',\n",
              " 'е',\n",
              " 'и',\n",
              " 'н',\n",
              " 'т',\n",
              " 'с',\n",
              " 'л',\n",
              " 'в',\n",
              " 'р',\n",
              " 'к',\n",
              " 'д',\n",
              " ',',\n",
              " 'м',\n",
              " 'у',\n",
              " 'п',\n",
              " 'я',\n",
              " 'ь',\n",
              " 'г',\n",
              " 'ы',\n",
              " 'з',\n",
              " 'б',\n",
              " 'ч',\n",
              " '.',\n",
              " 'й',\n",
              " 'ж',\n",
              " 'ш',\n",
              " 'х',\n",
              " '–',\n",
              " '\\xa0',\n",
              " 'ю',\n",
              " 'e',\n",
              " 'ц',\n",
              " 'щ',\n",
              " 'Н',\n",
              " 'э',\n",
              " 's',\n",
              " 'n',\n",
              " 'r',\n",
              " 'i',\n",
              " 'a',\n",
              " 'П',\n",
              " '-',\n",
              " 'u',\n",
              " 'o',\n",
              " 't',\n",
              " 'А',\n",
              " 'ф',\n",
              " 'В',\n",
              " 'l',\n",
              " '3',\n",
              " ';',\n",
              " 'О',\n",
              " '!',\n",
              " '?',\n",
              " '2',\n",
              " 'К',\n",
              " 'Б',\n",
              " 'm',\n",
              " 'Д',\n",
              " 'М',\n",
              " 'd',\n",
              " 'c',\n",
              " 'С',\n",
              " 'Р',\n",
              " '&',\n",
              " '#',\n",
              " '…',\n",
              " 'И',\n",
              " 'p',\n",
              " 'Т',\n",
              " 'v',\n",
              " ':',\n",
              " 'Я',\n",
              " '»',\n",
              " '«',\n",
              " '’',\n",
              " '4',\n",
              " 'h',\n",
              " 'Г',\n",
              " '1',\n",
              " 'ъ',\n",
              " ']',\n",
              " '[',\n",
              " 'Э',\n",
              " 'Ч',\n",
              " 'Е',\n",
              " 'q',\n",
              " 'f',\n",
              " ')',\n",
              " '(',\n",
              " 'g',\n",
              " 'b',\n",
              " 'Л',\n",
              " '5',\n",
              " 'I',\n",
              " '8',\n",
              " '0',\n",
              " 'З',\n",
              " 'У',\n",
              " '6',\n",
              " '9',\n",
              " '7',\n",
              " 'z',\n",
              " 'j',\n",
              " 'Ж',\n",
              " 'V',\n",
              " 'M',\n",
              " 'B',\n",
              " 'A',\n",
              " 'X',\n",
              " 'Ф',\n",
              " 'Х',\n",
              " 'x',\n",
              " 'Ш',\n",
              " 'L',\n",
              " 'y',\n",
              " 'C',\n",
              " 'J',\n",
              " 'N',\n",
              " 'P',\n",
              " 'ё',\n",
              " 'k',\n",
              " 'E',\n",
              " 'S',\n",
              " 'D',\n",
              " 'Ц',\n",
              " 'w',\n",
              " 'R',\n",
              " 'T',\n",
              " 'Q',\n",
              " 'O',\n",
              " 'G',\n",
              " 'F',\n",
              " '/',\n",
              " 'H',\n",
              " 'U',\n",
              " 'K',\n",
              " 'Ю',\n",
              " '_',\n",
              " '*',\n",
              " 'W',\n",
              " '„',\n",
              " '“',\n",
              " 'Z',\n",
              " '—',\n",
              " 'Щ',\n",
              " '>',\n",
              " '<',\n",
              " 'Й',\n",
              " '▁с',\n",
              " 'то',\n",
              " '▁в',\n",
              " '▁п',\n",
              " '▁н',\n",
              " '▁о',\n",
              " '▁и',\n",
              " '▁к',\n",
              " 'ал',\n",
              " 'го',\n",
              " 'ра',\n",
              " 'ст',\n",
              " 'ен',\n",
              " 'но',\n",
              " '▁по',\n",
              " '▁д',\n",
              " '▁б',\n",
              " 'ел',\n",
              " 'ро',\n",
              " '▁не',\n",
              " 'ер',\n",
              " 'ко',\n",
              " 'во',\n",
              " '▁ч',\n",
              " '▁м',\n",
              " 'ри',\n",
              " 'на',\n",
              " '▁на',\n",
              " 'ть',\n",
              " 'ло',\n",
              " 'ка',\n",
              " 'ла',\n",
              " '▁е',\n",
              " 'ли',\n",
              " '▁з',\n",
              " 'та',\n",
              " '▁у',\n",
              " 'ре',\n",
              " '\\xa0–',\n",
              " 'ни',\n",
              " 'ва',\n",
              " '▁бы',\n",
              " '▁что',\n",
              " 'сь',\n",
              " 'ся',\n",
              " '▁–',\n",
              " 'ет',\n",
              " 'да',\n",
              " '▁ко',\n",
              " 'ны',\n",
              " 'ня',\n",
              " 'ру',\n",
              " 'ми',\n",
              " '▁то',\n",
              " 'ем',\n",
              " '▁за',\n",
              " '▁ка',\n",
              " '▁т',\n",
              " 'ки',\n",
              " '▁–\\xa0',\n",
              " '▁го',\n",
              " 'ди',\n",
              " 'хо',\n",
              " '▁он',\n",
              " '▁э',\n",
              " '▁г',\n",
              " 'ени',\n",
              " 'ол',\n",
              " 'е,',\n",
              " 'ви',\n",
              " '▁от',\n",
              " 'ну',\n",
              " 'каз',\n",
              " '▁Н',\n",
              " '▁ра',\n",
              " '▁ж',\n",
              " '▁при',\n",
              " '▁вс',\n",
              " 'ши',\n",
              " 'ти',\n",
              " 'му',\n",
              " 'ала',\n",
              " ',\\xa0–',\n",
              " '▁вы',\n",
              " 'до',\n",
              " '▁П',\n",
              " '▁мо',\n",
              " 'ле',\n",
              " '▁это',\n",
              " 'не',\n",
              " 'ля',\n",
              " '▁про',\n",
              " 'ве',\n",
              " '▁А',\n",
              " 'ль',\n",
              " '▁во',\n",
              " 'ры',\n",
              " '▁как',\n",
              " 'мо',\n",
              " '▁его',\n",
              " '▁та',\n",
              " '▁об',\n",
              " 'ма',\n",
              " 'сто',\n",
              " '▁сказ',\n",
              " '▁все',\n",
              " '▁до',\n",
              " '▁В',\n",
              " '▁кото',\n",
              " 'ере',\n",
              " '▁сво',\n",
              " '▁со',\n",
              " '▁О',\n",
              " 'ша',\n",
              " 'ше',\n",
              " '▁я',\n",
              " '▁ни',\n",
              " '▁кня',\n",
              " 'али',\n",
              " 'й,',\n",
              " 'сти',\n",
              " '▁но',\n",
              " 'чи',\n",
              " '▁а',\n",
              " 'по',\n",
              " 'ча',\n",
              " 'м,',\n",
              " 'ста',\n",
              " 'тел',\n",
              " 'де',\n",
              " '▁К',\n",
              " 'лу',\n",
              " '▁Б',\n",
              " 'си',\n",
              " 'ду',\n",
              " 'че',\n",
              " 'ку',\n",
              " '▁из',\n",
              " 'вори',\n",
              " 'ще',\n",
              " 'лю',\n",
              " '▁М',\n",
              " 'со',\n",
              " 'лы',\n",
              " 'ско',\n",
              " 'ело',\n",
              " '▁Ан',\n",
              " 'я,',\n",
              " 'за',\n",
              " 'сть',\n",
              " 'ела',\n",
              " 'жи',\n",
              " 'енно',\n",
              " '▁княз',\n",
              " '▁она',\n",
              " '▁Д',\n",
              " '▁На',\n",
              " 'ень',\n",
              " '▁ст',\n",
              " 'ме',\n",
              " '▁под',\n",
              " '▁было',\n",
              " '▁сказал',\n",
              " '▁раз',\n",
              " '▁хо',\n",
              " '▁ви',\n",
              " 'ря',\n",
              " 'же',\n",
              " 'вал',\n",
              " '▁ли',\n",
              " 'у,',\n",
              " '▁се',\n",
              " '.\\xa0–',\n",
              " 'вы',\n",
              " 'ели',\n",
              " 'ски',\n",
              " 'га',\n",
              " 'лся',\n",
              " 'гда',\n",
              " '▁Р',\n",
              " '▁С',\n",
              " 'бе',\n",
              " '▁пре',\n",
              " 'ты',\n",
              " 'ги',\n",
              " '▁так',\n",
              " '&#',\n",
              " 'тель',\n",
              " '▁говори',\n",
              " 'вер',\n",
              " 'дре',\n",
              " '&#2',\n",
              " '▁ру',\n",
              " '▁ва',\n",
              " 'вши',\n",
              " 'те',\n",
              " 'лько',\n",
              " 'уд',\n",
              " 'ство',\n",
              " '▁Пь',\n",
              " '▁Андре',\n",
              " '▁дру',\n",
              " 'щи',\n",
              " 'ву',\n",
              " '▁пос',\n",
              " 'бо',\n",
              " 'ту',\n",
              " 'ез',\n",
              " '▁ду',\n",
              " 'дно',\n",
              " '▁те',\n",
              " '&#23',\n",
              " '▁ему',\n",
              " '▁са',\n",
              " 'ар',\n",
              " '▁И',\n",
              " '▁лю',\n",
              " '▁d',\n",
              " 'би',\n",
              " '▁зна',\n",
              " '▁сто',\n",
              " '▁пере',\n",
              " '▁ее',\n",
              " '▁которы',\n",
              " 'ать',\n",
              " '▁Ро',\n",
              " 'ou',\n",
              " 'кой',\n",
              " 'ей',\n",
              " '▁был',\n",
              " 'раф',\n",
              " '▁ми',\n",
              " '▁Он',\n",
              " 'сь,',\n",
              " '▁же',\n",
              " 'бы',\n",
              " '▁ве',\n",
              " '▁Росто',\n",
              " 'х,',\n",
              " 'ба',\n",
              " 'жени',\n",
              " 'вая',\n",
              " 'ало',\n",
              " '▁Ната',\n",
              " 'сп',\n",
              " 'es',\n",
              " '▁сп',\n",
              " '▁ста',\n",
              " 'ца',\n",
              " 'в,',\n",
              " '▁Пьер',\n",
              " '▁князь',\n",
              " 'ю,',\n",
              " '▁бол',\n",
              " 'ды',\n",
              " '▁гла',\n",
              " 'са',\n",
              " '-то',\n",
              " 'енны',\n",
              " 'en',\n",
              " 'ться',\n",
              " 'жа',\n",
              " 'го,',\n",
              " 'е.',\n",
              " '▁ф',\n",
              " '▁Т',\n",
              " '▁p',\n",
              " '▁вз',\n",
              " '▁только',\n",
              " '▁которо',\n",
              " '▁да',\n",
              " '▁«',\n",
              " '▁c',\n",
              " '▁граф',\n",
              " 'мот',\n",
              " '▁голо',\n",
              " 'on',\n",
              " 'шел',\n",
              " '▁m',\n",
              " 'ран',\n",
              " 'жно',\n",
              " '▁рас',\n",
              " '▁буд',\n",
              " 'дел',\n",
              " 'ть,',\n",
              " '▁l',\n",
              " 'чал',\n",
              " '▁си',\n",
              " '▁Бо',\n",
              " 'м.',\n",
              " 'й.',\n",
              " 'гля',\n",
              " '▁оп',\n",
              " 'ха',\n",
              " 'су',\n",
              " '▁ме',\n",
              " '▁мог',\n",
              " 'ходи',\n",
              " 'ми,',\n",
              " 'рем',\n",
              " '▁еще',\n",
              " '▁чу',\n",
              " 're',\n",
              " '&#233',\n",
              " '&#233;',\n",
              " 'ерь',\n",
              " 'тельно',\n",
              " 'бя',\n",
              " '▁им',\n",
              " 'вно',\n",
              " '▁улы',\n",
              " 'т,',\n",
              " '▁ты',\n",
              " '▁ре',\n",
              " '▁для',\n",
              " '▁-',\n",
              " '▁и,',\n",
              " '?\\xa0–',\n",
              " 'ера',\n",
              " '▁свои',\n",
              " 'зо',\n",
              " '▁–\\xa0Н',\n",
              " '▁Наташа',\n",
              " 'дя',\n",
              " 'ный',\n",
              " 'нно',\n",
              " 'ех',\n",
              " 'цо',\n",
              " 'шь',\n",
              " 'пи',\n",
              " 'лась',\n",
              " '▁жи',\n",
              " '!\\xa0–',\n",
              " '▁сказала',\n",
              " 'ска',\n",
              " '▁была',\n",
              " '▁Г',\n",
              " 'елове',\n",
              " '▁ш',\n",
              " '▁Я',\n",
              " 'ения',\n",
              " 'ным',\n",
              " 'цу',\n",
              " '▁челове',\n",
              " '▁боль']"
            ]
          },
          "metadata": {
            "tags": []
          },
          "execution_count": 97
        }
      ]
    },
    {
      "cell_type": "code",
      "metadata": {
        "hidden": true,
        "id": "bmYqhboM_ikR"
      },
      "source": [
        "# text_parts = [text[i:i + PART_LEN] for i in range(0, len(text), PART_LEN)]\n",
        "# Разбиваем по предложениям\n",
        "text_parts = text.split('.')\n",
        "text_parts = [part for part in text_parts if len(part) > 0 and len(part) < PART_LEN]\n",
        "encoded_parts = bpe.encode(text_parts, bos=True, eos=True)"
      ],
      "execution_count": 98,
      "outputs": []
    },
    {
      "cell_type": "code",
      "metadata": {
        "hidden": true,
        "id": "oHhSoWkKewVd"
      },
      "source": [
        "dataset = PaddedSequenceDataset(encoded_parts, out_len=PART_LEN, pad_value=0)\n",
        "\n",
        "train_len = int(len(dataset) * 0.9)\n",
        "valid_len = len(dataset) - train_len\n",
        "train_dataset, val_dataset = random_split(dataset, [train_len, valid_len])\n",
        "\n",
        "train_dataloader = DataLoader(train_dataset, batch_size=BATCH_SIZE, shuffle=True)\n",
        "valid_dataloader = DataLoader(val_dataset, batch_size=BATCH_SIZE, shuffle=True)"
      ],
      "execution_count": 99,
      "outputs": []
    },
    {
      "cell_type": "code",
      "metadata": {
        "hidden": true,
        "id": "RNRuKqHSewVd",
        "outputId": "62332f9b-952b-40c0-eada-a3182449c2cf",
        "colab": {
          "base_uri": "https://localhost:8080/"
        }
      },
      "source": [
        "print(len(train_dataset), len(val_dataset))"
      ],
      "execution_count": 100,
      "outputs": [
        {
          "output_type": "stream",
          "text": [
            "12654 1406\n"
          ],
          "name": "stdout"
        }
      ]
    },
    {
      "cell_type": "code",
      "metadata": {
        "hidden": true,
        "scrolled": true,
        "id": "ZJqgWRiZewVe",
        "outputId": "17832922-7de8-4e0a-e63e-4b4d9544afe6",
        "colab": {
          "base_uri": "https://localhost:8080/"
        }
      },
      "source": [
        "train_dataset[0]"
      ],
      "execution_count": 101,
      "outputs": [
        {
          "output_type": "execute_result",
          "data": {
            "text/plain": [
              "(tensor([  2,   4, 115, 111, 100, 262,  16, 206,  23, 260, 210, 269,  13, 329,\n",
              "         184, 388, 208,  12,  20,   6, 210, 164, 293, 186,  17, 315, 224, 226,\n",
              "         186, 388, 447,  21, 183, 318,  16, 224, 226, 186, 388, 161, 450,  30,\n",
              "         289, 170, 358,  32, 436, 166,  19, 484, 349,  32, 199,   4, 321, 239,\n",
              "         404, 231, 189, 358, 185,  32, 210,   8,  23, 165,  13, 269,  29, 179,\n",
              "          19,  25,  24, 213,  17, 250, 432, 215, 449, 202,  14,  22,   0,   0,\n",
              "           0,   0,   0,   0,   0,   0,   0,   0,   0,   0,   0,   0,   0,   0,\n",
              "           0,   0,   0,   0,   0,   0,   0,   0,   0,   0,   0,   0,   0,   0,\n",
              "           0,   0,   0,   0,   0,   0,   0,   0,   0,   0,   0,   0,   0,   0,\n",
              "           0,   0,   0,   0,   0,   0,   0,   0,   0,   0,   0,   0,   0,   0,\n",
              "           0,   0,   0,   0,   0,   0,   0,   0,   0,   0,   0,   0,   0,   0,\n",
              "           0,   0,   0,   0,   0,   0,   0,   0,   0,   0,   0,   0,   0,   0,\n",
              "           0,   0,   0,   0,   0,   0,   0,   0,   0,   0,   0,   0,   0,   0,\n",
              "           0,   0,   0,   0,   0,   0,   0,   0,   0,   0,   0,   0,   0,   0,\n",
              "           0,   0,   0,   0,   0,   0,   0,   0,   0,   0,   0,   0,   0,   0,\n",
              "           0,   0,   0,   0,   0,   0,   0,   0,   0,   0,   0,   0,   0,   0,\n",
              "           0,   0,   0,   0,   0,   0,   0,   0,   0,   0,   0,   0,   0,   0,\n",
              "           0,   0,   0,   0,   0,   0,   0,   0,   0,   0,   0,   0,   0,   0,\n",
              "           0,   0,   0,   0,   0,   0,   0,   0,   0,   0,   0,   0,   0,   0,\n",
              "           0,   0,   0,   0,   0,   0,   0,   0,   0,   0,   0,   0,   0,   0,\n",
              "           0,   0,   0,   0,   0,   0,   0,   0,   0,   0,   0,   0,   0,   0,\n",
              "           0,   0,   0,   0,   0,   0]),\n",
              " tensor([  4, 115, 111, 100, 262,  16, 206,  23, 260, 210, 269,  13, 329, 184,\n",
              "         388, 208,  12,  20,   6, 210, 164, 293, 186,  17, 315, 224, 226, 186,\n",
              "         388, 447,  21, 183, 318,  16, 224, 226, 186, 388, 161, 450,  30, 289,\n",
              "         170, 358,  32, 436, 166,  19, 484, 349,  32, 199,   4, 321, 239, 404,\n",
              "         231, 189, 358, 185,  32, 210,   8,  23, 165,  13, 269,  29, 179,  19,\n",
              "          25,  24, 213,  17, 250, 432, 215, 449, 202,  14,  22,   3,   0,   0,\n",
              "           0,   0,   0,   0,   0,   0,   0,   0,   0,   0,   0,   0,   0,   0,\n",
              "           0,   0,   0,   0,   0,   0,   0,   0,   0,   0,   0,   0,   0,   0,\n",
              "           0,   0,   0,   0,   0,   0,   0,   0,   0,   0,   0,   0,   0,   0,\n",
              "           0,   0,   0,   0,   0,   0,   0,   0,   0,   0,   0,   0,   0,   0,\n",
              "           0,   0,   0,   0,   0,   0,   0,   0,   0,   0,   0,   0,   0,   0,\n",
              "           0,   0,   0,   0,   0,   0,   0,   0,   0,   0,   0,   0,   0,   0,\n",
              "           0,   0,   0,   0,   0,   0,   0,   0,   0,   0,   0,   0,   0,   0,\n",
              "           0,   0,   0,   0,   0,   0,   0,   0,   0,   0,   0,   0,   0,   0,\n",
              "           0,   0,   0,   0,   0,   0,   0,   0,   0,   0,   0,   0,   0,   0,\n",
              "           0,   0,   0,   0,   0,   0,   0,   0,   0,   0,   0,   0,   0,   0,\n",
              "           0,   0,   0,   0,   0,   0,   0,   0,   0,   0,   0,   0,   0,   0,\n",
              "           0,   0,   0,   0,   0,   0,   0,   0,   0,   0,   0,   0,   0,   0,\n",
              "           0,   0,   0,   0,   0,   0,   0,   0,   0,   0,   0,   0,   0,   0,\n",
              "           0,   0,   0,   0,   0,   0,   0,   0,   0,   0,   0,   0,   0,   0,\n",
              "           0,   0,   0,   0,   0,   0,   0,   0,   0,   0,   0,   0,   0,   0,\n",
              "           0,   0,   0,   0,   0,   0]))"
            ]
          },
          "metadata": {
            "tags": []
          },
          "execution_count": 101
        }
      ]
    },
    {
      "cell_type": "markdown",
      "metadata": {
        "heading_collapsed": true,
        "id": "JdzfmnN3ewVf"
      },
      "source": [
        "### Модель"
      ]
    },
    {
      "cell_type": "code",
      "metadata": {
        "hidden": true,
        "id": "XmBZ91GdewVf"
      },
      "source": [
        "class PositionalEncoding(nn.Module):\n",
        "\n",
        "    def __init__(self, d_model, dropout=0.1, max_len=5000):\n",
        "        super(PositionalEncoding, self).__init__()\n",
        "        self.dropout = nn.Dropout(p=dropout)\n",
        "\n",
        "        pe = torch.zeros(max_len, d_model)\n",
        "        position = torch.arange(0, max_len, dtype=torch.float).unsqueeze(1)\n",
        "        div_term = torch.exp(torch.arange(0, d_model, 2).float() * (-math.log(10000.0) / d_model))\n",
        "        pe[:, 0::2] = torch.sin(position * div_term)\n",
        "        pe[:, 1::2] = torch.cos(position * div_term)\n",
        "        pe = pe.unsqueeze(0).transpose(0, 1)\n",
        "        self.register_buffer('pe', pe) # [5000, 1, ES]\n",
        "\n",
        "    def forward(self, x):\n",
        "        x = x + self.pe[:x.size(0), :] # [XLen, BS, ES]\n",
        "        return self.dropout(x)\n",
        "      \n",
        "class text_generator_transformer(nn.Module):\n",
        "    def __init__(self, \n",
        "                 vocab_size, embedding_dim, device, pad_idx, sos_idx, eos_idx, dropout,\n",
        "                 enc_heads_num, enc_internal_dim, enc_layers_num):\n",
        "        super().__init__()\n",
        "        \n",
        "        self.embedding = nn.Embedding(vocab_size, embedding_dim)\n",
        "        self.pos_encoding = PositionalEncoding(embedding_dim, dropout)\n",
        "        self.device = device\n",
        "        self.embedding_dim = embedding_dim\n",
        "\n",
        "        self.pad_idx = pad_idx\n",
        "        self.sos_idx = sos_idx\n",
        "        self.eos_idx = eos_idx\n",
        "\n",
        "        encoder_layer = TransformerEncoderLayer(embedding_dim, enc_heads_num, enc_internal_dim, dropout)\n",
        "        self.encoder = TransformerEncoder(encoder_layer, enc_layers_num)\n",
        "\n",
        "        self.out = nn.Linear(embedding_dim, vocab_size)\n",
        "\n",
        "    def generate_square_subsequent_mask(self, sz):\n",
        "        mask = (torch.triu(torch.ones(sz, sz)) == 1).transpose(0, 1)\n",
        "        mask = mask.float().masked_fill(mask == 0, float('-inf')).masked_fill(mask == 1, float(0.0))\n",
        "        return mask\n",
        "    \n",
        "    def generate_padding_mask(self, seq):\n",
        "        mask = (seq == self.pad_idx).transpose(1, 0) # [BS, SeqLen]\n",
        "        return mask\n",
        "\n",
        "    def forward(self, src):\n",
        "        #src = [InLen, BS]\n",
        "        batch_size = src.shape[1]\n",
        "        in_len = src.shape[0]\n",
        "\n",
        "        src_embed = self.embedding(src) * math.sqrt(self.embedding_dim) # [InLen, BS, ED]\n",
        "        src_embed = self.pos_encoding(src_embed)\n",
        "        src_padding_mask = self.generate_padding_mask(src) # [BS, InLen]\n",
        "        src_dependency_mask = self.generate_square_subsequent_mask(in_len).to(self.device)\n",
        "\n",
        "        encoder_output = self.encoder(src_embed, \n",
        "                                      mask=src_dependency_mask,\n",
        "                                      src_key_padding_mask=src_padding_mask) # [InLen, BS, ED]\n",
        "\n",
        "        logists = self.out(encoder_output) # [OutLen, BS, VS]\n",
        "\n",
        "        return logists\n",
        "\n",
        "    def get_source(self, s=None):\n",
        "        if s:\n",
        "            source = torch.tensor(bpe.encode(s, bos=True)).reshape((-1, 1))\n",
        "            source_len = source.shape[0]\n",
        "            template = torch.zeros((PART_LEN, 1)).long().fill_(self.sos_idx)\n",
        "            result = torch.cat((source, template), dim=0).to(self.device)\n",
        "        else:\n",
        "            result = torch.zeros((PART_LEN, 1)).long().fill_(self.sos_idx).to(self.device) # [MaxLen, 1]\n",
        "            source_len = 1\n",
        "        \n",
        "        return result, source_len\n",
        "        \n",
        "\n",
        "\n",
        "    def inference(self, start_sentence=None):\n",
        "\n",
        "        tgt, start_i = self.get_source(start_sentence)\n",
        "        \n",
        "        for i in range(start_i, PART_LEN):\n",
        "            filled_tgt = tgt[:i, :]\n",
        "            tgt_embed = self.embedding(filled_tgt) * math.sqrt(self.embedding_dim) # [i, 1, ED]\n",
        "            tgt_embed = self.pos_encoding(tgt_embed)\n",
        "            src_dependency_mask = self.generate_square_subsequent_mask(tgt_embed.shape[0]).to(self.device)\n",
        "            \n",
        "            encoder_output = self.encoder(tgt_embed, mask=src_dependency_mask) # [InLen, 1, ED]\n",
        "\n",
        "            last_token_embed = encoder_output[-1, :, :]\n",
        "            last_token_logists = self.out(last_token_embed).squeeze(0) # [VS]\n",
        "            scores = torch.softmax(last_token_logists, dim=0)\n",
        "            last_token_index = torch.multinomial(scores, 1)[0]\n",
        "            # last_token_index = torch.argmax(last_token_logists) # [1]\n",
        "            tgt[i, :] = last_token_index\n",
        "\n",
        "            if last_token_index == self.eos_idx:\n",
        "                break\n",
        "        return tgt[:i+1, 0]"
      ],
      "execution_count": 102,
      "outputs": []
    },
    {
      "cell_type": "code",
      "metadata": {
        "hidden": true,
        "id": "gQmjmauKewVf"
      },
      "source": [
        "model = text_generator_transformer(\n",
        "      VOCAB_SIZE, EMBEDDING_DIM, device, dropout=DROPOUT,\n",
        "      pad_idx=PAD_IDX, sos_idx=SOS_IDX, eos_idx=EOS_IDX,\n",
        "      enc_heads_num=ENCODER_HEADS_NUMBER, enc_internal_dim=INTERNAL_DIM, enc_layers_num=ENCODER_LAYERS_NUM,\n",
        ").to(device)"
      ],
      "execution_count": 103,
      "outputs": []
    },
    {
      "cell_type": "markdown",
      "metadata": {
        "id": "Cde3ru1JEfOV"
      },
      "source": [
        "### TEST"
      ]
    },
    {
      "cell_type": "code",
      "metadata": {
        "colab": {
          "base_uri": "https://localhost:8080/"
        },
        "id": "fW6shKVa1hFO",
        "outputId": "66971ac0-016d-402a-92ec-5de72976f325"
      },
      "source": [
        "output = model.inference('Привет')\n",
        "output_text = bpe.decode(output.tolist(), ignore_ids=[0, 1, 2, 3])\n",
        "print('Predict: ', ' '.join(output_text))"
      ],
      "execution_count": 54,
      "outputs": [
        {
          "output_type": "stream",
          "text": [
            "Predict:  ПриветA всефирел моперьСтичеW Истьм,в, Марьет,мот себя графгб ме прецеГтьелине былаядвно дацену его будДV спзо –  спса мнещга слогля\n"
          ],
          "name": "stdout"
        }
      ]
    },
    {
      "cell_type": "markdown",
      "metadata": {
        "id": "ObSaHKBY5CS8"
      },
      "source": [
        "### Initialization"
      ]
    },
    {
      "cell_type": "code",
      "metadata": {
        "scrolled": true,
        "id": "7tOx0ctqewVh",
        "outputId": "4a2193c2-aa52-4172-d178-1c65f9c954f5",
        "colab": {
          "base_uri": "https://localhost:8080/"
        }
      },
      "source": [
        "def init_weights(m):\n",
        "    for name, param in m.named_parameters():\n",
        "        if 'weight' in name:\n",
        "            nn.init.normal_(param.data, mean=0, std=0.01)\n",
        "        else:\n",
        "            nn.init.constant_(param.data, 0)\n",
        "            \n",
        "model.apply(init_weights)"
      ],
      "execution_count": 113,
      "outputs": [
        {
          "output_type": "execute_result",
          "data": {
            "text/plain": [
              "text_generator_transformer(\n",
              "  (embedding): Embedding(500, 128)\n",
              "  (pos_encoding): PositionalEncoding(\n",
              "    (dropout): Dropout(p=0.1, inplace=False)\n",
              "  )\n",
              "  (encoder): TransformerEncoder(\n",
              "    (layers): ModuleList(\n",
              "      (0): TransformerEncoderLayer(\n",
              "        (self_attn): MultiheadAttention(\n",
              "          (out_proj): _LinearWithBias(in_features=128, out_features=128, bias=True)\n",
              "        )\n",
              "        (linear1): Linear(in_features=128, out_features=128, bias=True)\n",
              "        (dropout): Dropout(p=0.1, inplace=False)\n",
              "        (linear2): Linear(in_features=128, out_features=128, bias=True)\n",
              "        (norm1): LayerNorm((128,), eps=1e-05, elementwise_affine=True)\n",
              "        (norm2): LayerNorm((128,), eps=1e-05, elementwise_affine=True)\n",
              "        (dropout1): Dropout(p=0.1, inplace=False)\n",
              "        (dropout2): Dropout(p=0.1, inplace=False)\n",
              "      )\n",
              "      (1): TransformerEncoderLayer(\n",
              "        (self_attn): MultiheadAttention(\n",
              "          (out_proj): _LinearWithBias(in_features=128, out_features=128, bias=True)\n",
              "        )\n",
              "        (linear1): Linear(in_features=128, out_features=128, bias=True)\n",
              "        (dropout): Dropout(p=0.1, inplace=False)\n",
              "        (linear2): Linear(in_features=128, out_features=128, bias=True)\n",
              "        (norm1): LayerNorm((128,), eps=1e-05, elementwise_affine=True)\n",
              "        (norm2): LayerNorm((128,), eps=1e-05, elementwise_affine=True)\n",
              "        (dropout1): Dropout(p=0.1, inplace=False)\n",
              "        (dropout2): Dropout(p=0.1, inplace=False)\n",
              "      )\n",
              "    )\n",
              "  )\n",
              "  (out): Linear(in_features=128, out_features=500, bias=True)\n",
              ")"
            ]
          },
          "metadata": {
            "tags": []
          },
          "execution_count": 113
        }
      ]
    },
    {
      "cell_type": "code",
      "metadata": {
        "id": "OoSKGskTewVh",
        "outputId": "c0bed91a-8f0b-4add-bcb9-7cec25c43196",
        "colab": {
          "base_uri": "https://localhost:8080/"
        }
      },
      "source": [
        "def count_parameters(model):\n",
        "    return sum(p.numel() for p in model.parameters() if p.requires_grad)\n",
        "\n",
        "print(f'The model has {count_parameters(model):,} trainable parameters')"
      ],
      "execution_count": 114,
      "outputs": [
        {
          "output_type": "stream",
          "text": [
            "The model has 327,668 trainable parameters\n"
          ],
          "name": "stdout"
        }
      ]
    },
    {
      "cell_type": "markdown",
      "metadata": {
        "id": "MBG7edrBewVi"
      },
      "source": [
        "### Обучение модели"
      ]
    },
    {
      "cell_type": "code",
      "metadata": {
        "id": "D2N8WfZ1jLI2",
        "outputId": "99c3763f-19d7-4fb9-f357-172eb4cb268f",
        "colab": {
          "base_uri": "https://localhost:8080/"
        }
      },
      "source": [
        "optimizer = optim.Adam(model.parameters(), lr=0.005)\n",
        "criterion = nn.CrossEntropyLoss(ignore_index=PAD_IDX)\n",
        "scheduler = MultiplicativeLR(optimizer, lr_lambda=lambda epoch: 0.95, verbose=True)"
      ],
      "execution_count": 115,
      "outputs": [
        {
          "output_type": "stream",
          "text": [
            "Adjusting learning rate of group 0 to 5.0000e-03.\n"
          ],
          "name": "stdout"
        }
      ]
    },
    {
      "cell_type": "code",
      "metadata": {
        "id": "fK4VEe85ewVk",
        "outputId": "e449e8e2-6cfa-4d8a-e7b5-9d6429b62144",
        "colab": {
          "base_uri": "https://localhost:8080/",
          "height": 581
        }
      },
      "source": [
        "MODEL_NAME = './spbu-nlp-2020/deep_learning/models/transformer.pt'\n",
        "N_EPOCHS = 500\n",
        "CLIP = 1\n",
        "\n",
        "train_history = []\n",
        "valid_history = []\n",
        "\n",
        "best_valid_loss = float('inf')\n",
        "\n",
        "for epoch in range(N_EPOCHS):\n",
        "    \n",
        "    start_time = time.time()\n",
        "    \n",
        "    train_loss = train(model, train_dataloader, optimizer, criterion, CLIP, train_history, valid_history)\n",
        "    valid_loss = evaluate(model, valid_dataloader, criterion)\n",
        "    scheduler.step()\n",
        "    \n",
        "    end_time = time.time()\n",
        "    epoch_mins, epoch_secs = epoch_time(start_time, end_time)\n",
        "    if valid_loss < best_valid_loss:\n",
        "        best_valid_loss = valid_loss\n",
        "        torch.save(model.state_dict(), MODEL_NAME) \n",
        "        \n",
        "    train_history.append(train_loss)\n",
        "    valid_history.append(valid_loss)\n",
        "    \n",
        "    print(f'Epoch: {epoch+1:02} | Time: {epoch_mins}m {epoch_secs}s')\n",
        "    print(f'\\tTrain Loss: {train_loss:.3f} | Train PPL: {math.exp(train_loss):7.3f}')\n",
        "    print(f'\\t Val. Loss: {valid_loss:.3f} |  Val. PPL: {math.exp(valid_loss):7.3f}')"
      ],
      "execution_count": null,
      "outputs": [
        {
          "output_type": "display_data",
          "data": {
            "image/png": "[encoded data removed]",
            "text/plain": [
              "<Figure size 864x576 with 2 Axes>"
            ]
          },
          "metadata": {
            "tags": [],
            "needs_background": "light"
          }
        },
        {
          "output_type": "stream",
          "text": [
            "Adjusting learning rate of group 0 to 1.9861e-03.\n",
            "Epoch: 18 | Time: 0m 32s\n",
            "\tTrain Loss: 3.181 | Train PPL:  24.062\n",
            "\t Val. Loss: 3.071 |  Val. PPL:  21.563\n"
          ],
          "name": "stdout"
        }
      ]
    },
    {
      "cell_type": "markdown",
      "metadata": {
        "id": "Xh1jKzuHmHq7"
      },
      "source": [
        "### Анализ результатов"
      ]
    },
    {
      "cell_type": "code",
      "metadata": {
        "id": "nwScL6QgewVl",
        "outputId": "faf2af87-3927-4ca3-fb14-60a968acbd79",
        "colab": {
          "base_uri": "https://localhost:8080/"
        }
      },
      "source": [
        "# for cpu usage\n",
        "model.load_state_dict(torch.load('./spbu-nlp-2020/deep_learning/models/transformer100.pt', \n",
        "                                 map_location=torch.device(device)))"
      ],
      "execution_count": 57,
      "outputs": [
        {
          "output_type": "execute_result",
          "data": {
            "text/plain": [
              "<All keys matched successfully>"
            ]
          },
          "metadata": {
            "tags": []
          },
          "execution_count": 57
        }
      ]
    },
    {
      "cell_type": "code",
      "metadata": {
        "scrolled": true,
        "id": "u_OOFKKtewVm",
        "outputId": "9d4a9dfa-d5cd-4a59-a5f2-1e29f41da833",
        "colab": {
          "base_uri": "https://localhost:8080/"
        }
      },
      "source": [
        "test_loss = evaluate(model, valid_dataloader, criterion)\n",
        "\n",
        "print(f'| Test Loss: {test_loss:.3f} | Test PPL: {math.exp(test_loss):7.3f} |')"
      ],
      "execution_count": 66,
      "outputs": [
        {
          "output_type": "stream",
          "text": [
            "| Test Loss: 3.222 | Test PPL:  25.081 |\n"
          ],
          "name": "stdout"
        }
      ]
    },
    {
      "cell_type": "code",
      "metadata": {
        "id": "hrty_dCFewVm",
        "outputId": "ef417b5f-dcac-460a-cc27-63dc6ad8a6d1",
        "colab": {
          "base_uri": "https://localhost:8080/"
        }
      },
      "source": [
        "output = model.inference('')\n",
        "output_text = bpe.decode(output.tolist(), ignore_ids=[0, 1, 2, 3])\n",
        "print('Predict: ', ' '.join(output_text))"
      ],
      "execution_count": 88,
      "outputs": [
        {
          "output_type": "stream",
          "text": [
            "Predict:  Денисов вышел к эту минуту гостиную, поднял одина, одобрадин, что он почти в самому уехал кружь нему\n"
          ],
          "name": "stdout"
        }
      ]
    },
    {
      "cell_type": "code",
      "metadata": {
        "id": "J6p1J5iZjs7j"
      },
      "source": [
        ""
      ],
      "execution_count": null,
      "outputs": []
    }
  ]
}